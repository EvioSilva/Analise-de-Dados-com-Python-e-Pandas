{
  "nbformat": 4,
  "nbformat_minor": 0,
  "metadata": {
    "colab": {
      "name": "Excel_Pandas.ipynb",
      "provenance": [],
      "authorship_tag": "ABX9TyMkhfrELCYb7csYuovXLrqD",
      "include_colab_link": true
    },
    "kernelspec": {
      "name": "python3",
      "display_name": "Python 3"
    },
    "language_info": {
      "name": "python"
    }
  },
  "cells": [
    {
      "cell_type": "markdown",
      "metadata": {
        "id": "view-in-github",
        "colab_type": "text"
      },
      "source": [
        "<a href=\"https://colab.research.google.com/github/lis-r-barreto/Analise-de-Dados-com-Python-e-Pandas/blob/main/Excel_Pandas.ipynb\" target=\"_parent\"><img src=\"https://colab.research.google.com/assets/colab-badge.svg\" alt=\"Open In Colab\"/></a>"
      ]
    },
    {
      "cell_type": "code",
      "metadata": {
        "colab": {
          "base_uri": "https://localhost:8080/"
        },
        "id": "D3h6v_BV375D",
        "outputId": "fdfe7494-fe48-4148-a5f7-eba781454857"
      },
      "source": [
        "!pip install xlsxwriter"
      ],
      "execution_count": null,
      "outputs": [
        {
          "output_type": "stream",
          "name": "stdout",
          "text": [
            "Requirement already satisfied: xlsxwriter in /usr/local/lib/python3.7/dist-packages (3.0.1)\n"
          ]
        }
      ]
    },
    {
      "cell_type": "code",
      "metadata": {
        "id": "Fn-GVZCC2XoE"
      },
      "source": [
        "import numpy as np\n",
        "import pandas as pd\n",
        "import xlsxwriter"
      ],
      "execution_count": null,
      "outputs": []
    },
    {
      "cell_type": "code",
      "metadata": {
        "id": "ZwIk4aRo4Wo8"
      },
      "source": [
        "data_first = 'https://raw.githubusercontent.com/alura-cursos/introducao-a-data-science/aula0/aula0/ml-latest-small/ratings.csv'\n",
        "\n",
        "data_second = pd.read_csv(\"https://raw.githubusercontent.com/alura-cursos/introducao-a-data-science/aula0/aula0/ml-latest-small/movies.csv\")\n",
        "\n",
        "df_first = pd.read_csv(data_first)\n",
        "df_second = pd.DataFrame(data_second)"
      ],
      "execution_count": null,
      "outputs": []
    },
    {
      "cell_type": "code",
      "metadata": {
        "id": "JH4r1F7GuRmb"
      },
      "source": [
        "with pd.ExcelWriter('two_frames_one_tab.xlsx', engine='xlsxwriter') as writer:\n",
        "    df_first.to_excel(writer, sheet_name='first_tab', index=False)\n",
        "    df_second.to_excel(writer, sheet_name='second_tab', index=False)"
      ],
      "execution_count": null,
      "outputs": []
    },
    {
      "cell_type": "code",
      "metadata": {
        "id": "EI1EGIS2IWxI"
      },
      "source": [
        "workbook  = writer.book\n",
        "worksheet = writer.sheets['first_tab']\n",
        "\n",
        "number_rows = len(df_first.index)\n",
        "color_range = \"A1:D{}\".format(number_rows + 1)\n",
        "worksheet.add_table(color_range, {'data': df_first, 'style': 'Table Style Light 11'})\n",
        "\n",
        "\n",
        "# Close the Pandas Excel writer and output the Excel file.\n",
        "writer.save()"
      ],
      "execution_count": null,
      "outputs": []
    },
    {
      "cell_type": "code",
      "metadata": {
        "id": "8Gfh86qYIFQw"
      },
      "source": [
        "##############################################################################\n",
        "#\n",
        "# An example of adding a dataframe to an worksheet table in an xlsx file\n",
        "# using Pandas and XlsxWriter.\n",
        "#\n",
        "# Tables in Excel are used to group rows and columns of data into a single\n",
        "# structure that can be referenced in a formula or formatted collectively.\n",
        "#\n",
        "# Copyright 2013-2021, John McNamara, jmcnamara@cpan.org\n",
        "#\n",
        "\n",
        "import pandas as pd\n",
        "\n",
        "# Create a Pandas dataframe from some data.\n",
        "df = pd.DataFrame({\n",
        "    'Country':    ['China',    'India',    'United States', 'Indonesia'],\n",
        "    'Population': [1404338840, 1366938189, 330267887,       269603400],\n",
        "    'Rank':       [1,          2,          3,               4]})\n",
        "\n",
        "# Order the columns if necessary.\n",
        "df = df[['Rank', 'Country', 'Population']]\n",
        "\n",
        "# Create a Pandas Excel writer using XlsxWriter as the engine.\n",
        "writer = pd.ExcelWriter('pandas_table.xlsx', engine='xlsxwriter')\n",
        "\n",
        "# Write the dataframe data to XlsxWriter. Turn off the default header and\n",
        "# index and skip one row to allow us to insert a user defined header.\n",
        "df.to_excel(writer, sheet_name='Sheet1', startrow=1, header=False, index=False)\n",
        "\n",
        "# Get the xlsxwriter workbook and worksheet objects.\n",
        "workbook = writer.book\n",
        "worksheet = writer.sheets['Sheet1']\n",
        "\n",
        "# Get the dimensions of the dataframe.\n",
        "(max_row, max_col) = df.shape\n",
        "\n",
        "# Create a list of column headers, to use in add_table().\n",
        "column_settings = [{'header': column} for column in df.columns]\n",
        "\n",
        "# Add the Excel table structure. Pandas will add the data.\n",
        "worksheet.add_table(0, 0, max_row, max_col - 1, {'columns': column_settings})\n",
        "\n",
        "# Make the columns wider for clarity.\n",
        "worksheet.set_column(0, max_col - 1, 12)\n",
        "\n",
        "# Close the Pandas Excel writer and output the Excel file.\n",
        "writer.save()"
      ],
      "execution_count": null,
      "outputs": []
    }
  ]
}